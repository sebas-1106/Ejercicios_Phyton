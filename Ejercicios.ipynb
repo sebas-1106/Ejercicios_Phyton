{
 "cells": [
  {
   "cell_type": "code",
   "execution_count": null,
   "metadata": {},
   "outputs": [
    {
     "name": "stdout",
     "output_type": "stream",
     "text": [
      "[]\n"
     ]
    }
   ],
   "source": [
    "#Eje 1\n",
    "# Escribe una función que reciba una cadena de texto como parámetro y devuelva un diccionario con las frecuencias de cada letra en la cadena. Los espacios no deben ser considerados.\n",
    "frase= \"Hola, soy un programa de Python\"\n",
    "\n",
    "def diccinarioLetras(cadena):\n",
    "    lista = []\n",
    "    diccinario = {}\n",
    "    for letra in cadena:\n",
    "        if letra == str:\n",
    "            lista.append[letra]\n",
    "        if letra == \" \":\n",
    "            pass   \n",
    "    print(lista)\n",
    "            \n",
    "diccinarioLetras(frase)\n"
   ]
  },
  {
   "cell_type": "code",
   "execution_count": null,
   "metadata": {},
   "outputs": [
    {
     "ename": "TypeError",
     "evalue": "map() takes 1 positional argument but 2 were given",
     "output_type": "error",
     "traceback": [
      "\u001b[31m---------------------------------------------------------------------------\u001b[39m",
      "\u001b[31mTypeError\u001b[39m                                 Traceback (most recent call last)",
      "\u001b[36mCell\u001b[39m\u001b[36m \u001b[39m\u001b[32mIn[21]\u001b[39m\u001b[32m, line 8\u001b[39m\n\u001b[32m      6\u001b[39m \u001b[38;5;28;01mdef\u001b[39;00m\u001b[38;5;250m \u001b[39m\u001b[34mdoble_valores\u001b[39m(lista):\n\u001b[32m      7\u001b[39m     \u001b[38;5;28;01mreturn\u001b[39;00m \u001b[38;5;28mlist\u001b[39m(\u001b[38;5;28mmap\u001b[39m(\u001b[38;5;28;01mlambda\u001b[39;00m x: x * \u001b[32m2\u001b[39m, lista))\n\u001b[32m----> \u001b[39m\u001b[32m8\u001b[39m \u001b[43mdoble_valores\u001b[49m\u001b[43m(\u001b[49m\u001b[43mlista_numeros\u001b[49m\u001b[43m)\u001b[49m\n\u001b[32m     10\u001b[39m \u001b[38;5;66;03m# def map(numeros):\u001b[39;00m\n\u001b[32m     11\u001b[39m \u001b[38;5;66;03m#     nueva_lista_num= []\u001b[39;00m\n\u001b[32m     12\u001b[39m \u001b[38;5;66;03m#     for i in numeros:\u001b[39;00m\n\u001b[32m   (...)\u001b[39m\u001b[32m     15\u001b[39m \n\u001b[32m     16\u001b[39m \u001b[38;5;66;03m# map(lista_numeros)\u001b[39;00m\n",
      "\u001b[36mCell\u001b[39m\u001b[36m \u001b[39m\u001b[32mIn[21]\u001b[39m\u001b[32m, line 7\u001b[39m, in \u001b[36mdoble_valores\u001b[39m\u001b[34m(lista)\u001b[39m\n\u001b[32m      6\u001b[39m \u001b[38;5;28;01mdef\u001b[39;00m\u001b[38;5;250m \u001b[39m\u001b[34mdoble_valores\u001b[39m(lista):\n\u001b[32m----> \u001b[39m\u001b[32m7\u001b[39m     \u001b[38;5;28;01mreturn\u001b[39;00m \u001b[38;5;28mlist\u001b[39m(\u001b[38;5;28;43mmap\u001b[39;49m\u001b[43m(\u001b[49m\u001b[38;5;28;43;01mlambda\u001b[39;49;00m\u001b[43m \u001b[49m\u001b[43mx\u001b[49m\u001b[43m:\u001b[49m\u001b[43m \u001b[49m\u001b[43mx\u001b[49m\u001b[43m \u001b[49m\u001b[43m*\u001b[49m\u001b[43m \u001b[49m\u001b[32;43m2\u001b[39;49m\u001b[43m,\u001b[49m\u001b[43m \u001b[49m\u001b[43mlista\u001b[49m\u001b[43m)\u001b[49m)\n",
      "\u001b[31mTypeError\u001b[39m: map() takes 1 positional argument but 2 were given"
     ]
    }
   ],
   "source": [
    "# Eje2\n",
    "# Dada una lista de números, obtén una nueva lista con el doble de cada valor. Usa la función map().\n",
    "# Ejemplo: [1, 2, 3, 4, 5] -> [2, 4, 6, 8, 10]\n",
    "lista_numeros= [1, 2, 3, 4, 5, 6, 7 , 8, 9, 10]\n",
    "\n",
    "def map(numeros):\n",
    "    nueva_lista_num= []\n",
    "    for i in numeros:\n",
    "        nueva_lista_num += [i*2]\n",
    "    print(nueva_lista_num)\n",
    "\n",
    "map(lista_numeros)\n"
   ]
  },
  {
   "cell_type": "code",
   "execution_count": null,
   "metadata": {},
   "outputs": [],
   "source": [
    "#Eje 3"
   ]
  }
 ],
 "metadata": {
  "kernelspec": {
   "display_name": "Python 3",
   "language": "python",
   "name": "python3"
  },
  "language_info": {
   "codemirror_mode": {
    "name": "ipython",
    "version": 3
   },
   "file_extension": ".py",
   "mimetype": "text/x-python",
   "name": "python",
   "nbconvert_exporter": "python",
   "pygments_lexer": "ipython3",
   "version": "3.11.9"
  }
 },
 "nbformat": 4,
 "nbformat_minor": 2
}
