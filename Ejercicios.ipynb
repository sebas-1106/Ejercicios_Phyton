{
 "cells": [
  {
   "cell_type": "code",
   "execution_count": 6,
   "metadata": {},
   "outputs": [
    {
     "name": "stdout",
     "output_type": "stream",
     "text": [
      "{'H': 1, 'o': 4, 'l': 1, 'a': 3, ',': 1, 's': 1, 'y': 2, 'u': 1, 'n': 2, 'p': 1, 'r': 2, 'g': 1, 'm': 1, 'd': 1, 'e': 1, 'P': 1, 't': 1, 'h': 1}\n"
     ]
    }
   ],
   "source": [
    "#Eje 1\n",
    "# Escribe una función que reciba una cadena de texto como parámetro y devuelva un diccionario con las frecuencias de cada letra en la cadena. Los espacios no deben ser considerados.\n",
    "def diccionarioLetras(cadena):\n",
    "    diccionario = {}\n",
    "    \n",
    "    for letra in cadena:\n",
    "        if letra != \" \":  # Ignorar espacios\n",
    "            diccionario[letra] = diccionario.get(letra, 0) + 1  # Contar frecuencia\n",
    "\n",
    "    return diccionario  # Devolver el diccionario\n",
    "\n",
    "frase = \"Hola, soy un programa de Python\"\n",
    "resultado = diccionarioLetras(frase)\n",
    "print(resultado)\n",
    "\n"
   ]
  },
  {
   "cell_type": "code",
   "execution_count": 5,
   "metadata": {},
   "outputs": [
    {
     "name": "stdout",
     "output_type": "stream",
     "text": [
      "[2, 4, 6, 8, 10, 12, 14, 16, 18, 20]\n"
     ]
    }
   ],
   "source": [
    "# Eje2\n",
    "# Dada una lista de números, obtén una nueva lista con el doble de cada valor. Usa la función map().\n",
    "# Ejemplo: [1, 2, 3, 4, 5] -> [2, 4, 6, 8, 10]\n",
    "# Lista original\n",
    "lista_numeros = [1, 2, 3, 4, 5, 6, 7, 8, 9, 10]\n",
    "\n",
    "# Aplicamos map con una función lambda para duplicar los valores\n",
    "nueva_lista = list(map(lambda x: x * 2, lista_numeros))\n",
    "\n",
    "# Imprimimos el resultado\n",
    "print(nueva_lista)\n",
    "\n",
    "\n"
   ]
  },
  {
   "cell_type": "code",
   "execution_count": 8,
   "metadata": {},
   "outputs": [
    {
     "name": "stdout",
     "output_type": "stream",
     "text": [
      "['gato', 'gato', 'gato']\n"
     ]
    }
   ],
   "source": [
    "#Eje 3\n",
    "# Escribe una función que tome una lista de palabras y una palabra objetivo como parámetros. La función debe devolver una lista con todas las palabras de la lista original que contengan la palabra objetivo.\n",
    "def palabras_con_objetivo(lista_palabras, palabra_objetivo):\n",
    "    resultado = []  # Lista para almacenar palabras que contienen la palabra objetivo\n",
    "    \n",
    "    for palabra in lista_palabras:  # Recorremos cada palabra en la lista\n",
    "        if palabra_objetivo in palabra:  # Verificamos si la palabra objetivo está dentro de la palabra\n",
    "            resultado.append(palabra)  # Agregamos la palabra a la lista resultado\n",
    "\n",
    "    return resultado  # Devolvemos la lista con las palabras que cumplen la condición\n",
    "\n",
    "# Ejemplo de uso\n",
    "lista = [\"gato\", \"perro\", \"ratón\", \"gatito\", \"pato\", \"gatuno\", \"gato\", \"gato\"]\n",
    "objetivo = \"gato\"\n",
    "\n",
    "print(palabras_con_objetivo(lista, objetivo))\n"
   ]
  },
  {
   "cell_type": "code",
   "execution_count": null,
   "metadata": {},
   "outputs": [
    {
     "name": "stdout",
     "output_type": "stream",
     "text": [
      "[1, 1, 2, -3, 3]\n"
     ]
    }
   ],
   "source": [
    "#Eje 4\n",
    "# Genera una función que calcule la diferencia entre los valores de dos listas. Usa la función map().\n",
    "numeros1= [2,3,5,1,8]\n",
    "numeros2= [1,2,3,4,5]\n",
    "\n",
    "resultado= list(map(lambda x, y: x - y, numeros1, numeros2))\n",
    "print(resultado)"
   ]
  },
  {
   "cell_type": "code",
   "execution_count": 18,
   "metadata": {},
   "outputs": [
    {
     "name": "stdout",
     "output_type": "stream",
     "text": [
      "('reprobado', 'aprobado', 'aprobado', 'aprobado', 'aprobado', 'aprobado', 'reprobado')\n"
     ]
    }
   ],
   "source": [
    "#Eje 5\n",
    "listaNotas= [4,5,7,8,9.2,5.1,3]\n",
    "\n",
    "def aprobados(listaNotas, notaAprobado=5):\n",
    "    listaAprobadosReprobados=[]\n",
    "    tuplaAprobadosReprobados=()\n",
    "    for nota in listaNotas:\n",
    "        if nota >= notaAprobado:\n",
    "            listaAprobadosReprobados.append(\"aprobado\")\n",
    "        else :\n",
    "            listaAprobadosReprobados.append(\"reprobado\")\n",
    "\n",
    "    tuplaAprobadosReprobados= tuple(listaAprobadosReprobados)\n",
    "    return tuplaAprobadosReprobados\n",
    "\n",
    "tupla= aprobados(listaNotas)\n",
    "print(tupla)\n"
   ]
  },
  {
   "cell_type": "code",
   "execution_count": 46,
   "metadata": {},
   "outputs": [
    {
     "name": "stdout",
     "output_type": "stream",
     "text": [
      "120\n"
     ]
    }
   ],
   "source": [
    "#Eje 6 factorizacion\n",
    "def factorizacionNum(num):\n",
    "    if num == 1:  # Caso base: cuando num llega a 1, se detiene\n",
    "        return 1  \n",
    "    else:\n",
    "        return num * factorizacionNum(num - 1)\n",
    "    \n",
    "resultado= factorizacionNum(5)\n",
    "print(resultado)"
   ]
  },
  {
   "cell_type": "code",
   "execution_count": 51,
   "metadata": {},
   "outputs": [
    {
     "name": "stdout",
     "output_type": "stream",
     "text": [
      "['(1, 2)', '(3, 4)', '(5, 6)']\n"
     ]
    }
   ],
   "source": [
    "#Eje7\n",
    "\n",
    "listadetuplas= [(1,2),(3,4),(5,6)]\n",
    "# def listaAstrings(lista1):\n",
    "#     lista2=[]\n",
    "#     for i in lista1:\n",
    "#         lista2.append(str(i))\n",
    "#         return lista2\n",
    "#     print(listaAstrings(listadetuplas))\n",
    "\n",
    "resultado= list(map(lambda x: str(x), listadetuplas))\n",
    "print(resultado) # ['(1, 2)', '(3, 4)', '(5,"
   ]
  }
 ],
 "metadata": {
  "kernelspec": {
   "display_name": "Python 3",
   "language": "python",
   "name": "python3"
  },
  "language_info": {
   "codemirror_mode": {
    "name": "ipython",
    "version": 3
   },
   "file_extension": ".py",
   "mimetype": "text/x-python",
   "name": "python",
   "nbconvert_exporter": "python",
   "pygments_lexer": "ipython3",
   "version": "3.11.9"
  }
 },
 "nbformat": 4,
 "nbformat_minor": 2
}
